{
 "cells": [
  {
   "cell_type": "markdown",
   "id": "96e8a491",
   "metadata": {},
   "source": [
    "# <u>Import required libraries</u>"
   ]
  },
  {
   "cell_type": "code",
   "execution_count": 1,
   "id": "49ccb48d",
   "metadata": {},
   "outputs": [],
   "source": [
    "import numpy as np\n",
    "import matplotlib.pyplot as plt\n",
    "import cv2\n",
    "import os\n",
    "from keras.preprocessing.image import ImageDataGenerator\n",
    "from tensorflow.keras.utils import load_img, img_to_array, array_to_img"
   ]
  },
  {
   "cell_type": "code",
   "execution_count": 2,
   "id": "503b3646",
   "metadata": {},
   "outputs": [],
   "source": [
    "import PIL"
   ]
  },
  {
   "cell_type": "markdown",
   "id": "1fe30031",
   "metadata": {},
   "source": [
    "# <u>Image Augmentation because the original dataset is too small</u>"
   ]
  },
  {
   "cell_type": "code",
   "execution_count": 61,
   "id": "c9bab03a",
   "metadata": {},
   "outputs": [],
   "source": [
    "datagen = ImageDataGenerator(\n",
    "        height_shift_range=0.1,\n",
    "        width_shift_range=0.2,\n",
    "        rotation_range=5,\n",
    "        zoom_range=[0.9,1.8],\n",
    "        fill_mode='nearest')"
   ]
  },
  {
   "cell_type": "code",
   "execution_count": null,
   "id": "e11054cd",
   "metadata": {},
   "outputs": [],
   "source": []
  },
  {
   "cell_type": "code",
   "execution_count": null,
   "id": "4c41f924",
   "metadata": {},
   "outputs": [],
   "source": []
  },
  {
   "cell_type": "code",
   "execution_count": 62,
   "id": "a4da4d98",
   "metadata": {},
   "outputs": [],
   "source": [
    "for img in os.listdir(\"dataset\"):\n",
    "    image = load_img(os.path.join(\"dataset\",img))\n",
    "    x = img_to_array(image)\n",
    "    x = x.reshape((1,)+x.shape)\n",
    "    \n",
    "    digit = img[0]\n",
    "    \n",
    "    i = 1\n",
    "    for batch in datagen.flow(x, batch_size=1,save_to_dir='preview', save_prefix=digit, save_format='png'):\n",
    "        i += 1\n",
    "        if i > 100:\n",
    "            break"
   ]
  },
  {
   "cell_type": "markdown",
   "id": "5057b731",
   "metadata": {},
   "source": [
    "# <u>Data preprocessing</u>"
   ]
  },
  {
   "cell_type": "code",
   "execution_count": 63,
   "id": "a414c032",
   "metadata": {},
   "outputs": [],
   "source": [
    "def data(path,img):\n",
    "    image = cv2.imread(path,cv2.IMREAD_COLOR)[...,::-1]\n",
    "    image = cv2.resize(image,(100,162))\n",
    "    \n",
    "    digit = ''\n",
    "    if img[0] == '0':\n",
    "        digit = 0\n",
    "    elif img[0] == '1':\n",
    "        digit = 1\n",
    "    elif img[0] == '2':\n",
    "        digit = 2\n",
    "    elif img[0] == '3':\n",
    "        digit = 3\n",
    "    elif img[0] == '4':\n",
    "        digit = 4\n",
    "    elif img[0] == '5':\n",
    "        digit = 5\n",
    "    elif img[0] == '6':\n",
    "        digit = 6\n",
    "    elif img[0] == '7':\n",
    "        digit = 7\n",
    "    elif img[0] == '8':\n",
    "        digit = 8\n",
    "    elif img[0] == '9':\n",
    "        digit = 9\n",
    "        \n",
    "    return (image,digit)\n",
    "        "
   ]
  },
  {
   "cell_type": "code",
   "execution_count": 64,
   "id": "a7d66842",
   "metadata": {},
   "outputs": [],
   "source": [
    "dataset = []\n",
    "for img in os.listdir(\"new_dataset\"):\n",
    "    dataset.append(data(os.path.join(\"./new_dataset\",img),img))"
   ]
  },
  {
   "cell_type": "code",
   "execution_count": 65,
   "id": "f6822cff",
   "metadata": {},
   "outputs": [
    {
     "data": {
      "text/plain": [
       "2982"
      ]
     },
     "execution_count": 65,
     "metadata": {},
     "output_type": "execute_result"
    }
   ],
   "source": [
    "len(dataset)"
   ]
  },
  {
   "cell_type": "markdown",
   "id": "dcbc91a6",
   "metadata": {},
   "source": [
    "# <u>Dataset shuffling for better training of the model</u>"
   ]
  },
  {
   "cell_type": "code",
   "execution_count": 66,
   "id": "86530fe4",
   "metadata": {},
   "outputs": [],
   "source": [
    "import random\n",
    "random.shuffle(dataset)"
   ]
  },
  {
   "cell_type": "code",
   "execution_count": 74,
   "id": "b882f234",
   "metadata": {},
   "outputs": [],
   "source": [
    "X = []\n",
    "Y = []\n",
    "for feature,label in dataset:\n",
    "    X.append(feature)\n",
    "    Y.append(label)"
   ]
  },
  {
   "cell_type": "code",
   "execution_count": 86,
   "id": "f74ada03",
   "metadata": {},
   "outputs": [
    {
     "data": {
      "text/plain": [
       "303"
      ]
     },
     "execution_count": 86,
     "metadata": {},
     "output_type": "execute_result"
    }
   ],
   "source": [
    "Y.count(9)"
   ]
  },
  {
   "cell_type": "markdown",
   "id": "7f2e976e",
   "metadata": {},
   "source": [
    "# <u>Unzipping feature and label data into separate numpy arrays</u>"
   ]
  },
  {
   "cell_type": "code",
   "execution_count": 68,
   "id": "405f55c1",
   "metadata": {},
   "outputs": [],
   "source": [
    "X = np.array(X,dtype=\"float32\")\n",
    "Y = np.array(Y)"
   ]
  },
  {
   "cell_type": "code",
   "execution_count": 70,
   "id": "b618832d",
   "metadata": {},
   "outputs": [
    {
     "data": {
      "text/plain": [
       "array([2, 5, 2, ..., 0, 1, 3])"
      ]
     },
     "execution_count": 70,
     "metadata": {},
     "output_type": "execute_result"
    }
   ],
   "source": [
    "Y"
   ]
  },
  {
   "cell_type": "markdown",
   "id": "3a1d7cc3",
   "metadata": {},
   "source": [
    "# <u>Feature and label data serialization for furthur usage</u>"
   ]
  },
  {
   "cell_type": "code",
   "execution_count": 71,
   "id": "c872b81c",
   "metadata": {},
   "outputs": [],
   "source": [
    "import pickle\n",
    "feature = open('feature','wb')\n",
    "pickle.dump(X,feature)\n",
    "feature.close()"
   ]
  },
  {
   "cell_type": "code",
   "execution_count": 72,
   "id": "c9ecfe48",
   "metadata": {},
   "outputs": [],
   "source": [
    "label = open('label','wb')\n",
    "pickle.dump(Y,label)\n",
    "label.close()"
   ]
  },
  {
   "cell_type": "code",
   "execution_count": null,
   "id": "6ebaeac2",
   "metadata": {},
   "outputs": [],
   "source": []
  }
 ],
 "metadata": {
  "kernelspec": {
   "display_name": "Python 3 (ipykernel)",
   "language": "python",
   "name": "python3"
  },
  "language_info": {
   "codemirror_mode": {
    "name": "ipython",
    "version": 3
   },
   "file_extension": ".py",
   "mimetype": "text/x-python",
   "name": "python",
   "nbconvert_exporter": "python",
   "pygments_lexer": "ipython3",
   "version": "3.10.2"
  }
 },
 "nbformat": 4,
 "nbformat_minor": 5
}
