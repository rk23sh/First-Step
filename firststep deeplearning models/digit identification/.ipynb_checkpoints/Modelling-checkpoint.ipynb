{
 "cells": [
  {
   "cell_type": "markdown",
   "id": "cbed20fc",
   "metadata": {},
   "source": [
    "# <u>Feature and label data deserialized for utilization</u>"
   ]
  },
  {
   "cell_type": "code",
   "execution_count": 16,
   "id": "4156dcd4",
   "metadata": {},
   "outputs": [],
   "source": [
    "import pickle\n",
    "file = open('feature','rb')\n",
    "X = pickle.load(file)\n",
    "file.close()\n",
    "\n"
   ]
  },
  {
   "cell_type": "code",
   "execution_count": 17,
   "id": "7e9e74cd",
   "metadata": {},
   "outputs": [],
   "source": [
    "file = open('label','rb')\n",
    "Y = pickle.load(file)\n",
    "file.close()"
   ]
  },
  {
   "cell_type": "markdown",
   "id": "e749abc1",
   "metadata": {},
   "source": [
    "# <u>Splitting the dataset into training and testing data</u>\n",
    "\n",
    "#### +> Here the training and testing data set is exactly the same as the dataset is too small "
   ]
  },
  {
   "cell_type": "code",
   "execution_count": 18,
   "id": "54169318",
   "metadata": {},
   "outputs": [],
   "source": [
    "x_train = X[:2982]\n",
    "y_train = Y[:2982]\n",
    "\n",
    "x_test = X[:2982]\n",
    "y_test = Y[:2982]"
   ]
  },
  {
   "cell_type": "markdown",
   "id": "779b4f30",
   "metadata": {},
   "source": [
    "# <u> Keras library for CNN model creation </u>"
   ]
  },
  {
   "cell_type": "code",
   "execution_count": 19,
   "id": "3941aff1",
   "metadata": {},
   "outputs": [],
   "source": [
    "from keras.models import Sequential\n",
    "from keras.layers import Conv2D, MaxPooling2D, Dense, Flatten"
   ]
  },
  {
   "cell_type": "markdown",
   "id": "90f9d9ab",
   "metadata": {},
   "source": [
    "# <u>Convolutional Neural Network</u>"
   ]
  },
  {
   "cell_type": "code",
   "execution_count": 20,
   "id": "6c5d83e2",
   "metadata": {},
   "outputs": [],
   "source": [
    "model = Sequential([\n",
    "    Conv2D(32, (3,3), activation='relu', padding='same',input_shape=(162,100,3)),\n",
    "    MaxPooling2D((2,2)),\n",
    "    \n",
    "    Conv2D(32, (3,3), activation='relu', padding='same'),\n",
    "    MaxPooling2D((2,2)),\n",
    "    \n",
    "    Flatten(),\n",
    "    Dense(264, activation='relu'),\n",
    "    Dense(128, activation='relu'),\n",
    "    Dense(64, activation='relu'),\n",
    "    Dense(26, activation='softmax')\n",
    "])"
   ]
  },
  {
   "cell_type": "code",
   "execution_count": 21,
   "id": "70065ff0",
   "metadata": {},
   "outputs": [],
   "source": [
    "model.compile(loss='sparse_categorical_crossentropy',optimizer='adam',metrics=['accuracy'])"
   ]
  },
  {
   "cell_type": "markdown",
   "id": "cf64824a",
   "metadata": {},
   "source": [
    "# <u> Model Training </u>"
   ]
  },
  {
   "cell_type": "code",
   "execution_count": 22,
   "id": "49645f8b",
   "metadata": {},
   "outputs": [
    {
     "name": "stdout",
     "output_type": "stream",
     "text": [
      "Epoch 1/3\n",
      "94/94 [==============================] - 29s 298ms/step - loss: 26.5820 - accuracy: 0.4400\n",
      "Epoch 2/3\n",
      "94/94 [==============================] - 27s 291ms/step - loss: 0.2867 - accuracy: 0.9152\n",
      "Epoch 3/3\n",
      "94/94 [==============================] - 27s 284ms/step - loss: 0.0471 - accuracy: 0.9852\n"
     ]
    },
    {
     "data": {
      "text/plain": [
       "<keras.callbacks.History at 0x1a228f1b6d0>"
      ]
     },
     "execution_count": 22,
     "metadata": {},
     "output_type": "execute_result"
    }
   ],
   "source": [
    "model.fit(x_train,y_train,epochs=3,batch_size=32)"
   ]
  },
  {
   "cell_type": "markdown",
   "id": "181d8015",
   "metadata": {},
   "source": [
    "# <u>Model Testing</u>"
   ]
  },
  {
   "cell_type": "code",
   "execution_count": 23,
   "id": "255d61ac",
   "metadata": {},
   "outputs": [
    {
     "name": "stdout",
     "output_type": "stream",
     "text": [
      "94/94 [==============================] - 7s 74ms/step - loss: 0.0249 - accuracy: 0.9953\n"
     ]
    },
    {
     "data": {
      "text/plain": [
       "[0.02490163967013359, 0.9953051805496216]"
      ]
     },
     "execution_count": 23,
     "metadata": {},
     "output_type": "execute_result"
    }
   ],
   "source": [
    "model.evaluate(x_test,y_test)"
   ]
  },
  {
   "cell_type": "code",
   "execution_count": 11,
   "id": "b15c8936",
   "metadata": {},
   "outputs": [
    {
     "name": "stdout",
     "output_type": "stream",
     "text": [
      "Model: \"sequential\"\n",
      "_________________________________________________________________\n",
      " Layer (type)                Output Shape              Param #   \n",
      "=================================================================\n",
      " conv2d (Conv2D)             (None, 162, 100, 32)      896       \n",
      "                                                                 \n",
      " max_pooling2d (MaxPooling2D  (None, 81, 50, 32)       0         \n",
      " )                                                               \n",
      "                                                                 \n",
      " conv2d_1 (Conv2D)           (None, 81, 50, 32)        9248      \n",
      "                                                                 \n",
      " max_pooling2d_1 (MaxPooling  (None, 40, 25, 32)       0         \n",
      " 2D)                                                             \n",
      "                                                                 \n",
      " flatten (Flatten)           (None, 32000)             0         \n",
      "                                                                 \n",
      " dense (Dense)               (None, 264)               8448264   \n",
      "                                                                 \n",
      " dense_1 (Dense)             (None, 128)               33920     \n",
      "                                                                 \n",
      " dense_2 (Dense)             (None, 64)                8256      \n",
      "                                                                 \n",
      " dense_3 (Dense)             (None, 26)                1690      \n",
      "                                                                 \n",
      "=================================================================\n",
      "Total params: 8,502,274\n",
      "Trainable params: 8,502,274\n",
      "Non-trainable params: 0\n",
      "_________________________________________________________________\n"
     ]
    }
   ],
   "source": [
    "model.summary()"
   ]
  },
  {
   "cell_type": "code",
   "execution_count": 24,
   "id": "d7d4309b",
   "metadata": {},
   "outputs": [],
   "source": [
    "# save this model for future use\n",
    "from tensorflow.keras.models import save_model\n",
    "save_model(model,\"model.h5\")\n",
    "# make prediction"
   ]
  },
  {
   "cell_type": "code",
   "execution_count": 25,
   "id": "93113f51",
   "metadata": {},
   "outputs": [],
   "source": [
    "import tensorflow as tf"
   ]
  },
  {
   "cell_type": "markdown",
   "id": "251268b6",
   "metadata": {},
   "source": [
    "### .h5 to .tflite"
   ]
  },
  {
   "cell_type": "code",
   "execution_count": 26,
   "id": "96c80a11",
   "metadata": {},
   "outputs": [
    {
     "name": "stderr",
     "output_type": "stream",
     "text": [
      "WARNING:absl:Found untraced functions such as _jit_compiled_convolution_op, _jit_compiled_convolution_op while saving (showing 2 of 2). These functions will not be directly callable after loading.\n"
     ]
    },
    {
     "name": "stdout",
     "output_type": "stream",
     "text": [
      "INFO:tensorflow:Assets written to: C:\\Users\\RAUNAK\\AppData\\Local\\Temp\\tmpygr67wxj\\assets\n"
     ]
    },
    {
     "name": "stderr",
     "output_type": "stream",
     "text": [
      "INFO:tensorflow:Assets written to: C:\\Users\\RAUNAK\\AppData\\Local\\Temp\\tmpygr67wxj\\assets\n"
     ]
    },
    {
     "data": {
      "text/plain": [
       "34013308"
      ]
     },
     "execution_count": 26,
     "metadata": {},
     "output_type": "execute_result"
    }
   ],
   "source": [
    "converter = tf.lite.TFLiteConverter.from_keras_model(model)\n",
    "tflite_model = converter.convert()\n",
    "open(\"digit_detector.tflite\", \"wb\").write(tflite_model)"
   ]
  },
  {
   "cell_type": "code",
   "execution_count": null,
   "id": "86e79d36",
   "metadata": {},
   "outputs": [],
   "source": []
  }
 ],
 "metadata": {
  "kernelspec": {
   "display_name": "Python 3 (ipykernel)",
   "language": "python",
   "name": "python3"
  },
  "language_info": {
   "codemirror_mode": {
    "name": "ipython",
    "version": 3
   },
   "file_extension": ".py",
   "mimetype": "text/x-python",
   "name": "python",
   "nbconvert_exporter": "python",
   "pygments_lexer": "ipython3",
   "version": "3.10.2"
  }
 },
 "nbformat": 4,
 "nbformat_minor": 5
}
