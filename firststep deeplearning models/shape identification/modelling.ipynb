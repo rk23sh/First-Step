{
 "cells": [
  {
   "cell_type": "markdown",
   "id": "124b81a7",
   "metadata": {},
   "source": [
    "# <u>Feature and label data deserialized for utilization</u>"
   ]
  },
  {
   "cell_type": "code",
   "execution_count": 1,
   "id": "7adb6fd6",
   "metadata": {},
   "outputs": [],
   "source": [
    "import pickle\n",
    "file = open('feature','rb')\n",
    "X = pickle.load(file)\n",
    "file.close()\n",
    "\n"
   ]
  },
  {
   "cell_type": "code",
   "execution_count": 2,
   "id": "49023b11",
   "metadata": {},
   "outputs": [],
   "source": [
    "file = open('label','rb')\n",
    "Y = pickle.load(file)\n",
    "file.close()"
   ]
  },
  {
   "cell_type": "code",
   "execution_count": 3,
   "id": "8dddb6e0",
   "metadata": {},
   "outputs": [
    {
     "data": {
      "text/plain": [
       "953"
      ]
     },
     "execution_count": 3,
     "metadata": {},
     "output_type": "execute_result"
    }
   ],
   "source": [
    "len(X)"
   ]
  },
  {
   "cell_type": "markdown",
   "id": "7aa5ba14",
   "metadata": {},
   "source": [
    "# <u>Splitting the dataset into training and testing data</u>\n",
    "\n",
    "#### +> Here the training and testing data set is exactly the same as the dataset is too small "
   ]
  },
  {
   "cell_type": "code",
   "execution_count": 4,
   "id": "4d3af38b",
   "metadata": {},
   "outputs": [],
   "source": [
    "x_train = X[:953]\n",
    "y_train = Y[:953]\n",
    "\n",
    "x_test = X[:953]\n",
    "y_test = Y[:953]"
   ]
  },
  {
   "cell_type": "markdown",
   "id": "b80df778",
   "metadata": {},
   "source": [
    "# <u> Keras library for CNN model creation </u>"
   ]
  },
  {
   "cell_type": "code",
   "execution_count": 5,
   "id": "960f5159",
   "metadata": {},
   "outputs": [],
   "source": [
    "from keras.models import Sequential\n",
    "from keras.layers import Conv2D, MaxPooling2D, Dense, Flatten"
   ]
  },
  {
   "cell_type": "markdown",
   "id": "6ae91956",
   "metadata": {},
   "source": [
    "# <u>Convolutional Neural Network</u>"
   ]
  },
  {
   "cell_type": "code",
   "execution_count": 6,
   "id": "c6e32ee4",
   "metadata": {},
   "outputs": [],
   "source": [
    "model = Sequential([\n",
    "    Conv2D(32, (3,3), activation='relu', padding='same',input_shape=(162,100,3)),\n",
    "    MaxPooling2D((2,2)),\n",
    "    \n",
    "    Conv2D(32, (3,3), activation='relu', padding='same'),\n",
    "    MaxPooling2D((2,2)),\n",
    "    \n",
    "    Flatten(),\n",
    "    Dense(264, activation='relu'),\n",
    "    Dense(128, activation='relu'),\n",
    "    Dense(64, activation='relu'),\n",
    "    Dense(26, activation='softmax')\n",
    "])"
   ]
  },
  {
   "cell_type": "code",
   "execution_count": 7,
   "id": "acbbd641",
   "metadata": {},
   "outputs": [],
   "source": [
    "model.compile(loss='sparse_categorical_crossentropy',optimizer='adam',metrics=['accuracy'])"
   ]
  },
  {
   "cell_type": "markdown",
   "id": "e8f351c0",
   "metadata": {},
   "source": [
    "# <u> Model Training </u>"
   ]
  },
  {
   "cell_type": "code",
   "execution_count": 8,
   "id": "d5aff6bb",
   "metadata": {},
   "outputs": [
    {
     "name": "stdout",
     "output_type": "stream",
     "text": [
      "Epoch 1/3\n",
      "30/30 [==============================] - 10s 297ms/step - loss: 97.8833 - accuracy: 0.2949\n",
      "Epoch 2/3\n",
      "30/30 [==============================] - 9s 286ms/step - loss: 0.6931 - accuracy: 0.7429\n",
      "Epoch 3/3\n",
      "30/30 [==============================] - 9s 289ms/step - loss: 0.1803 - accuracy: 0.9360\n"
     ]
    },
    {
     "data": {
      "text/plain": [
       "<keras.callbacks.History at 0x1adadf4f5e0>"
      ]
     },
     "execution_count": 8,
     "metadata": {},
     "output_type": "execute_result"
    }
   ],
   "source": [
    "model.fit(x_train,y_train,epochs=3,batch_size=32)"
   ]
  },
  {
   "cell_type": "markdown",
   "id": "4179a93a",
   "metadata": {},
   "source": [
    "# <u> Model Testing </u>"
   ]
  },
  {
   "cell_type": "code",
   "execution_count": 9,
   "id": "a7da6ad9",
   "metadata": {},
   "outputs": [
    {
     "name": "stdout",
     "output_type": "stream",
     "text": [
      "30/30 [==============================] - 2s 68ms/step - loss: 0.1066 - accuracy: 0.9727\n"
     ]
    },
    {
     "data": {
      "text/plain": [
       "[0.10656747221946716, 0.9727177619934082]"
      ]
     },
     "execution_count": 9,
     "metadata": {},
     "output_type": "execute_result"
    }
   ],
   "source": [
    "model.evaluate(x_test,y_test)"
   ]
  },
  {
   "cell_type": "code",
   "execution_count": 10,
   "id": "a5a10f3e",
   "metadata": {},
   "outputs": [
    {
     "name": "stdout",
     "output_type": "stream",
     "text": [
      "Model: \"sequential\"\n",
      "_________________________________________________________________\n",
      " Layer (type)                Output Shape              Param #   \n",
      "=================================================================\n",
      " conv2d (Conv2D)             (None, 162, 100, 32)      896       \n",
      "                                                                 \n",
      " max_pooling2d (MaxPooling2D  (None, 81, 50, 32)       0         \n",
      " )                                                               \n",
      "                                                                 \n",
      " conv2d_1 (Conv2D)           (None, 81, 50, 32)        9248      \n",
      "                                                                 \n",
      " max_pooling2d_1 (MaxPooling  (None, 40, 25, 32)       0         \n",
      " 2D)                                                             \n",
      "                                                                 \n",
      " flatten (Flatten)           (None, 32000)             0         \n",
      "                                                                 \n",
      " dense (Dense)               (None, 264)               8448264   \n",
      "                                                                 \n",
      " dense_1 (Dense)             (None, 128)               33920     \n",
      "                                                                 \n",
      " dense_2 (Dense)             (None, 64)                8256      \n",
      "                                                                 \n",
      " dense_3 (Dense)             (None, 26)                1690      \n",
      "                                                                 \n",
      "=================================================================\n",
      "Total params: 8,502,274\n",
      "Trainable params: 8,502,274\n",
      "Non-trainable params: 0\n",
      "_________________________________________________________________\n"
     ]
    }
   ],
   "source": [
    "model.summary()"
   ]
  },
  {
   "cell_type": "code",
   "execution_count": 11,
   "id": "b0e71b10",
   "metadata": {},
   "outputs": [],
   "source": [
    "# save this model for future use\n",
    "from tensorflow.keras.models import save_model\n",
    "save_model(model,\"model.h5\")\n",
    "# make prediction"
   ]
  },
  {
   "cell_type": "code",
   "execution_count": 12,
   "id": "dce1e6b7",
   "metadata": {},
   "outputs": [],
   "source": [
    "import tensorflow as tf"
   ]
  },
  {
   "cell_type": "markdown",
   "id": "8a206a4e",
   "metadata": {},
   "source": [
    "### .h5 to .tflite"
   ]
  },
  {
   "cell_type": "code",
   "execution_count": 13,
   "id": "c1dac2a5",
   "metadata": {},
   "outputs": [
    {
     "name": "stderr",
     "output_type": "stream",
     "text": [
      "WARNING:absl:Found untraced functions such as _jit_compiled_convolution_op, _jit_compiled_convolution_op while saving (showing 2 of 2). These functions will not be directly callable after loading.\n"
     ]
    },
    {
     "name": "stdout",
     "output_type": "stream",
     "text": [
      "INFO:tensorflow:Assets written to: C:\\Users\\RAUNAK\\AppData\\Local\\Temp\\tmpj8bvov61\\assets\n"
     ]
    },
    {
     "name": "stderr",
     "output_type": "stream",
     "text": [
      "INFO:tensorflow:Assets written to: C:\\Users\\RAUNAK\\AppData\\Local\\Temp\\tmpj8bvov61\\assets\n"
     ]
    },
    {
     "data": {
      "text/plain": [
       "34013216"
      ]
     },
     "execution_count": 13,
     "metadata": {},
     "output_type": "execute_result"
    }
   ],
   "source": [
    "converter = tf.lite.TFLiteConverter.from_keras_model(model)\n",
    "tflite_model = converter.convert()\n",
    "open(\"shape_detector.tflite\", \"wb\").write(tflite_model)"
   ]
  },
  {
   "cell_type": "code",
   "execution_count": null,
   "id": "fe0a881f",
   "metadata": {},
   "outputs": [],
   "source": []
  }
 ],
 "metadata": {
  "kernelspec": {
   "display_name": "Python 3 (ipykernel)",
   "language": "python",
   "name": "python3"
  },
  "language_info": {
   "codemirror_mode": {
    "name": "ipython",
    "version": 3
   },
   "file_extension": ".py",
   "mimetype": "text/x-python",
   "name": "python",
   "nbconvert_exporter": "python",
   "pygments_lexer": "ipython3",
   "version": "3.10.2"
  }
 },
 "nbformat": 4,
 "nbformat_minor": 5
}
