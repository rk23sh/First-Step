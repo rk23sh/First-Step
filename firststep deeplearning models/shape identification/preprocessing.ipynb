{
 "cells": [
  {
   "cell_type": "markdown",
   "id": "904eb515",
   "metadata": {},
   "source": [
    "# <u>Import required libraries</u>"
   ]
  },
  {
   "cell_type": "code",
   "execution_count": 1,
   "id": "ad4c7ff6",
   "metadata": {},
   "outputs": [],
   "source": [
    "import numpy as np\n",
    "import matplotlib.pyplot as plt\n",
    "import cv2\n",
    "import os\n",
    "from keras.preprocessing.image import ImageDataGenerator\n",
    "from tensorflow.keras.utils import load_img, img_to_array, array_to_img\n",
    "import PIL"
   ]
  },
  {
   "cell_type": "markdown",
   "id": "12745814",
   "metadata": {},
   "source": [
    "# <u>Image Augmentation because the original dataset is too small</u>"
   ]
  },
  {
   "cell_type": "code",
   "execution_count": 2,
   "id": "ed2119f7",
   "metadata": {},
   "outputs": [],
   "source": [
    "datagen = ImageDataGenerator(\n",
    "        height_shift_range=0.1,\n",
    "        width_shift_range=0.1,\n",
    "        rotation_range=5,\n",
    "        zoom_range=[0.9,1.8],\n",
    "        fill_mode='nearest')"
   ]
  },
  {
   "cell_type": "code",
   "execution_count": 4,
   "id": "eeb87e21",
   "metadata": {},
   "outputs": [],
   "source": [
    "for img in os.listdir(\"dataset\"):\n",
    "    image = load_img(os.path.join(\"dataset\",img))\n",
    "    x = img_to_array(image)\n",
    "    x = x.reshape((1,)+x.shape)\n",
    "    \n",
    "    shape = img[0]\n",
    "    \n",
    "    i = 1\n",
    "    for batch in datagen.flow(x, batch_size=1,save_to_dir='preview', save_prefix=shape, save_format='png'):\n",
    "        i += 1\n",
    "        if i > 5:\n",
    "            break"
   ]
  },
  {
   "cell_type": "markdown",
   "id": "d1730337",
   "metadata": {},
   "source": [
    "# <u>Data preprocessing</u>"
   ]
  },
  {
   "cell_type": "code",
   "execution_count": 11,
   "id": "d7df6efe",
   "metadata": {},
   "outputs": [],
   "source": [
    "def data(path,img):\n",
    "    image = cv2.imread(path,cv2.IMREAD_COLOR)[...,::-1]\n",
    "    image = cv2.resize(image,(100,162))\n",
    "    \n",
    "    shape = 0\n",
    "    if img[0]=='C':\n",
    "        shape = 0\n",
    "    elif img[0]=='T':\n",
    "        shape = 1\n",
    "    elif img[0]=='R':\n",
    "        shape = 2\n",
    "    elif img[0]=='S':\n",
    "        shape = 3\n",
    "    elif img[0]=='H':\n",
    "        shape = 4\n",
    "        \n",
    "    return (image,shape)\n",
    "        "
   ]
  },
  {
   "cell_type": "code",
   "execution_count": 12,
   "id": "9cbd9b88",
   "metadata": {},
   "outputs": [],
   "source": [
    "dataset = []\n",
    "for img in os.listdir(\"new_dataset\"):\n",
    "    dataset.append(data(os.path.join(\"./new_dataset\",img),img))"
   ]
  },
  {
   "cell_type": "code",
   "execution_count": null,
   "id": "f151ca34",
   "metadata": {},
   "outputs": [],
   "source": []
  },
  {
   "cell_type": "code",
   "execution_count": null,
   "id": "938aaf92",
   "metadata": {},
   "outputs": [],
   "source": []
  },
  {
   "cell_type": "code",
   "execution_count": null,
   "id": "425846db",
   "metadata": {},
   "outputs": [],
   "source": []
  },
  {
   "cell_type": "code",
   "execution_count": null,
   "id": "e1c6e8db",
   "metadata": {},
   "outputs": [],
   "source": []
  },
  {
   "cell_type": "code",
   "execution_count": null,
   "id": "09d3670d",
   "metadata": {},
   "outputs": [],
   "source": []
  },
  {
   "cell_type": "code",
   "execution_count": 144,
   "id": "c454d7ca",
   "metadata": {},
   "outputs": [],
   "source": []
  },
  {
   "cell_type": "code",
   "execution_count": 146,
   "id": "a8fdcaa0",
   "metadata": {},
   "outputs": [],
   "source": []
  },
  {
   "cell_type": "code",
   "execution_count": 13,
   "id": "8d1dc281",
   "metadata": {},
   "outputs": [
    {
     "data": {
      "text/plain": [
       "953"
      ]
     },
     "execution_count": 13,
     "metadata": {},
     "output_type": "execute_result"
    }
   ],
   "source": [
    "len(dataset)"
   ]
  },
  {
   "cell_type": "markdown",
   "id": "c8dd6aad",
   "metadata": {},
   "source": [
    "# <u>Dataset shuffling for better training of the model</u>"
   ]
  },
  {
   "cell_type": "code",
   "execution_count": 14,
   "id": "2f949fbf",
   "metadata": {},
   "outputs": [],
   "source": [
    "import random\n",
    "random.shuffle(dataset)"
   ]
  },
  {
   "cell_type": "code",
   "execution_count": 15,
   "id": "e085c09e",
   "metadata": {},
   "outputs": [],
   "source": [
    "X = []\n",
    "Y = []\n",
    "for feature,label in dataset:\n",
    "    X.append(feature)\n",
    "    Y.append(label)"
   ]
  },
  {
   "cell_type": "markdown",
   "id": "4b8d9c1e",
   "metadata": {},
   "source": [
    "# <u>Unzipping feature and label data into separate numpy arrays</u>"
   ]
  },
  {
   "cell_type": "code",
   "execution_count": 16,
   "id": "442bc4d4",
   "metadata": {},
   "outputs": [],
   "source": [
    "X = np.array(X,dtype=\"float32\")\n",
    "Y = np.array(Y)"
   ]
  },
  {
   "cell_type": "code",
   "execution_count": 17,
   "id": "57bdf65b",
   "metadata": {},
   "outputs": [
    {
     "data": {
      "text/plain": [
       "array([4, 2, 4, 4, 1, 0, 0, 2, 4, 2, 3, 3, 0, 4, 3, 0, 1, 1, 1, 2, 4, 2,\n",
       "       1, 4, 3, 0, 1, 2, 3, 3, 3, 3, 1, 4, 2, 4, 3, 0, 3, 3, 0, 3, 0, 4,\n",
       "       0, 1, 1, 0, 3, 2, 2, 1, 1, 1, 2, 1, 3, 2, 1, 2, 4, 3, 4, 3, 4, 3,\n",
       "       2, 2, 0, 4, 1, 2, 0, 3, 0, 2, 4, 4, 1, 3, 0, 3, 2, 0, 3, 2, 3, 4,\n",
       "       3, 4, 0, 3, 2, 0, 2, 1, 2, 3, 2, 1, 3, 4, 0, 1, 2, 0, 3, 3, 4, 1,\n",
       "       3, 4, 3, 0, 3, 4, 2, 0, 0, 4, 4, 4, 4, 4, 4, 4, 3, 2, 2, 1, 0, 0,\n",
       "       1, 0, 3, 0, 3, 0, 4, 2, 4, 4, 1, 4, 2, 4, 1, 2, 2, 1, 0, 2, 3, 1,\n",
       "       4, 2, 1, 0, 2, 1, 1, 4, 0, 3, 2, 0, 4, 3, 3, 1, 1, 0, 4, 2, 4, 4,\n",
       "       4, 3, 4, 1, 1, 1, 0, 4, 0, 1, 2, 0, 1, 3, 2, 0, 3, 2, 0, 3, 4, 3,\n",
       "       4, 3, 3, 3, 2, 3, 4, 2, 1, 2, 3, 2, 3, 4, 4, 1, 4, 3, 0, 0, 0, 0,\n",
       "       0, 2, 3, 0, 2, 3, 1, 4, 1, 1, 0, 0, 1, 4, 3, 0, 1, 3, 4, 2, 2, 4,\n",
       "       0, 2, 1, 3, 0, 2, 3, 0, 4, 0, 4, 1, 4, 0, 1, 4, 2, 3, 1, 3, 0, 4,\n",
       "       0, 2, 0, 2, 3, 2, 4, 3, 0, 1, 2, 1, 4, 3, 1, 2, 3, 1, 1, 1, 4, 0,\n",
       "       1, 0, 1, 1, 2, 2, 2, 1, 0, 3, 0, 0, 2, 4, 3, 2, 2, 3, 3, 0, 2, 0,\n",
       "       1, 1, 4, 2, 3, 0, 3, 1, 3, 3, 0, 0, 2, 0, 1, 0, 0, 1, 2, 0, 4, 3,\n",
       "       2, 3, 1, 3, 3, 1, 1, 2, 2, 3, 2, 2, 0, 4, 3, 1, 0, 1, 3, 3, 1, 2,\n",
       "       4, 1, 0, 4, 2, 4, 3, 0, 0, 2, 4, 4, 2, 4, 1, 3, 2, 3, 4, 0, 2, 4,\n",
       "       3, 0, 4, 0, 4, 4, 1, 2, 3, 4, 2, 3, 2, 1, 4, 4, 1, 3, 3, 2, 4, 4,\n",
       "       0, 2, 3, 4, 1, 4, 1, 3, 4, 0, 1, 3, 4, 3, 2, 1, 1, 1, 2, 3, 0, 1,\n",
       "       3, 3, 0, 0, 3, 2, 2, 3, 2, 3, 0, 2, 3, 1, 2, 3, 0, 1, 3, 4, 4, 0,\n",
       "       1, 0, 4, 3, 3, 0, 2, 1, 4, 1, 2, 1, 1, 3, 0, 3, 4, 2, 2, 4, 0, 2,\n",
       "       3, 1, 4, 0, 4, 4, 4, 1, 0, 1, 2, 3, 1, 0, 2, 0, 4, 3, 4, 1, 4, 1,\n",
       "       3, 3, 0, 2, 1, 2, 3, 3, 4, 3, 3, 1, 1, 2, 4, 0, 4, 1, 2, 3, 3, 4,\n",
       "       3, 4, 1, 4, 2, 4, 3, 2, 0, 0, 0, 2, 0, 3, 1, 0, 4, 1, 1, 0, 1, 2,\n",
       "       0, 4, 2, 1, 4, 2, 1, 1, 1, 3, 3, 1, 2, 0, 0, 3, 3, 2, 4, 3, 1, 0,\n",
       "       0, 3, 4, 2, 2, 2, 4, 4, 3, 2, 2, 1, 1, 4, 1, 1, 0, 3, 4, 4, 1, 4,\n",
       "       1, 4, 4, 2, 3, 2, 1, 4, 1, 3, 3, 0, 3, 2, 3, 1, 2, 4, 3, 0, 0, 4,\n",
       "       3, 1, 3, 3, 3, 3, 3, 2, 2, 0, 1, 3, 1, 0, 3, 1, 2, 3, 0, 1, 4, 2,\n",
       "       2, 2, 2, 2, 3, 2, 1, 2, 4, 0, 2, 3, 4, 0, 2, 1, 0, 0, 4, 0, 2, 2,\n",
       "       4, 4, 0, 4, 0, 4, 2, 4, 1, 2, 4, 4, 0, 0, 2, 0, 0, 1, 3, 1, 0, 2,\n",
       "       4, 4, 3, 0, 2, 3, 4, 4, 0, 0, 4, 4, 2, 1, 0, 4, 0, 1, 0, 1, 0, 3,\n",
       "       0, 0, 0, 3, 0, 1, 3, 0, 2, 0, 1, 2, 3, 2, 3, 3, 0, 4, 1, 0, 1, 4,\n",
       "       1, 1, 0, 3, 3, 1, 0, 0, 2, 2, 0, 0, 3, 1, 1, 1, 3, 0, 2, 4, 4, 2,\n",
       "       2, 1, 0, 4, 3, 2, 0, 1, 3, 2, 2, 2, 1, 0, 2, 1, 4, 4, 4, 2, 2, 2,\n",
       "       1, 4, 4, 1, 0, 1, 0, 0, 0, 0, 0, 1, 1, 0, 3, 3, 3, 3, 4, 1, 0, 4,\n",
       "       1, 3, 3, 1, 3, 0, 4, 4, 3, 3, 2, 3, 3, 1, 4, 4, 4, 4, 4, 2, 1, 0,\n",
       "       4, 0, 3, 2, 1, 1, 2, 1, 2, 1, 0, 0, 1, 2, 0, 2, 0, 0, 2, 3, 0, 3,\n",
       "       4, 3, 1, 2, 4, 2, 1, 4, 0, 0, 1, 4, 1, 4, 0, 2, 1, 1, 1, 3, 2, 1,\n",
       "       2, 3, 4, 1, 2, 2, 1, 1, 0, 3, 2, 4, 4, 1, 4, 1, 4, 4, 4, 0, 1, 2,\n",
       "       0, 2, 2, 0, 1, 3, 0, 1, 4, 2, 3, 4, 4, 0, 2, 3, 1, 1, 4, 4, 1, 1,\n",
       "       0, 0, 2, 1, 0, 0, 3, 0, 2, 4, 2, 3, 0, 1, 1, 2, 2, 3, 3, 2, 2, 3,\n",
       "       4, 4, 0, 0, 2, 4, 2, 4, 3, 1, 4, 2, 0, 4, 1, 4, 1, 2, 0, 4, 2, 3,\n",
       "       4, 2, 4, 2, 3, 2, 2, 3, 3, 1, 1, 3, 0, 2, 3, 2, 4, 4, 0, 1, 3, 1,\n",
       "       0, 2, 0, 0, 0, 1, 4])"
      ]
     },
     "execution_count": 17,
     "metadata": {},
     "output_type": "execute_result"
    }
   ],
   "source": [
    "Y"
   ]
  },
  {
   "cell_type": "markdown",
   "id": "a4c3d821",
   "metadata": {},
   "source": [
    "# <u>Feature and label data serialization for furthur usage</u>"
   ]
  },
  {
   "cell_type": "code",
   "execution_count": 18,
   "id": "2315706c",
   "metadata": {},
   "outputs": [],
   "source": [
    "import pickle\n",
    "feature = open('feature','wb')\n",
    "pickle.dump(X,feature)\n",
    "feature.close()"
   ]
  },
  {
   "cell_type": "code",
   "execution_count": 19,
   "id": "68c996e6",
   "metadata": {},
   "outputs": [],
   "source": [
    "label = open('label','wb')\n",
    "pickle.dump(Y,label)\n",
    "label.close()"
   ]
  },
  {
   "cell_type": "code",
   "execution_count": null,
   "id": "5a5fcda3",
   "metadata": {},
   "outputs": [],
   "source": []
  }
 ],
 "metadata": {
  "kernelspec": {
   "display_name": "Python 3 (ipykernel)",
   "language": "python",
   "name": "python3"
  },
  "language_info": {
   "codemirror_mode": {
    "name": "ipython",
    "version": 3
   },
   "file_extension": ".py",
   "mimetype": "text/x-python",
   "name": "python",
   "nbconvert_exporter": "python",
   "pygments_lexer": "ipython3",
   "version": "3.10.2"
  }
 },
 "nbformat": 4,
 "nbformat_minor": 5
}
