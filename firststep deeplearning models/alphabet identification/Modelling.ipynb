{
 "cells": [
  {
   "cell_type": "markdown",
   "id": "6899ad03",
   "metadata": {},
   "source": [
    "# <u>Feature and label data deserialized for utilization</u>"
   ]
  },
  {
   "cell_type": "code",
   "execution_count": 13,
   "id": "ea1d5a79",
   "metadata": {},
   "outputs": [],
   "source": [
    "import pickle\n",
    "file = open('feature','rb')\n",
    "X = pickle.load(file)\n",
    "file.close()\n",
    "\n"
   ]
  },
  {
   "cell_type": "code",
   "execution_count": 14,
   "id": "85e41dc7",
   "metadata": {},
   "outputs": [],
   "source": [
    "file = open('label','rb')\n",
    "Y = pickle.load(file)\n",
    "file.close()"
   ]
  },
  {
   "cell_type": "code",
   "execution_count": 15,
   "id": "1535a00c",
   "metadata": {},
   "outputs": [
    {
     "data": {
      "text/plain": [
       "7921"
      ]
     },
     "execution_count": 15,
     "metadata": {},
     "output_type": "execute_result"
    }
   ],
   "source": [
    "len(Y)"
   ]
  },
  {
   "cell_type": "markdown",
   "id": "222e3323",
   "metadata": {},
   "source": [
    "# <u>Splitting the dataset into training and testing data</u>\n",
    "\n",
    "#### +> Here the training and testing data set is exactly the same as the dataset is too small "
   ]
  },
  {
   "cell_type": "code",
   "execution_count": 16,
   "id": "cec9bc2a",
   "metadata": {},
   "outputs": [],
   "source": [
    "x_train = X[:7921]\n",
    "y_train = Y[:7921]\n",
    "\n",
    "x_test = X[:7921]\n",
    "y_test = Y[:7921]"
   ]
  },
  {
   "cell_type": "markdown",
   "id": "7df6ed80",
   "metadata": {},
   "source": [
    "# <u> Keras library for CNN model creation </u>"
   ]
  },
  {
   "cell_type": "code",
   "execution_count": 17,
   "id": "cc4bb9f5",
   "metadata": {},
   "outputs": [],
   "source": [
    "from keras.models import Sequential\n",
    "from keras.layers import Conv2D, MaxPooling2D, Dense, Flatten"
   ]
  },
  {
   "cell_type": "markdown",
   "id": "8729b935",
   "metadata": {},
   "source": [
    "# <u>Convolutional Neural Network</u>"
   ]
  },
  {
   "cell_type": "code",
   "execution_count": 18,
   "id": "d5068ff8",
   "metadata": {},
   "outputs": [],
   "source": [
    "model = Sequential([\n",
    "    Conv2D(32, (3,3), activation='relu', padding='same',input_shape=(162,100,3)),\n",
    "    MaxPooling2D((2,2)),\n",
    "    \n",
    "    Conv2D(32, (3,3), activation='relu', padding='same'),\n",
    "    MaxPooling2D((2,2)),\n",
    "    \n",
    "    Flatten(),\n",
    "    Dense(512, activation='relu'),\n",
    "    Dense(264, activation='relu'),\n",
    "    Dense(128, activation='relu'),\n",
    "    Dense(64, activation='relu'),\n",
    "    Dense(26, activation='softmax')\n",
    "])"
   ]
  },
  {
   "cell_type": "code",
   "execution_count": 19,
   "id": "1a63bcf7",
   "metadata": {},
   "outputs": [],
   "source": [
    "model.compile(loss='sparse_categorical_crossentropy',optimizer='adam',metrics=['accuracy'])"
   ]
  },
  {
   "cell_type": "markdown",
   "id": "f5a6814d",
   "metadata": {},
   "source": [
    "# <u>Model Training</u>"
   ]
  },
  {
   "cell_type": "code",
   "execution_count": 22,
   "id": "331c28de",
   "metadata": {},
   "outputs": [
    {
     "name": "stdout",
     "output_type": "stream",
     "text": [
      "248/248 [==============================] - 96s 384ms/step - loss: 0.1384 - accuracy: 0.9587\n"
     ]
    },
    {
     "data": {
      "text/plain": [
       "<keras.callbacks.History at 0x1fa58d9b340>"
      ]
     },
     "execution_count": 22,
     "metadata": {},
     "output_type": "execute_result"
    }
   ],
   "source": [
    "model.fit(x_train,y_train,epochs=1,batch_size=32)"
   ]
  },
  {
   "cell_type": "markdown",
   "id": "9b2ba1fe",
   "metadata": {},
   "source": [
    "# <u>Model Testing</u>"
   ]
  },
  {
   "cell_type": "code",
   "execution_count": 23,
   "id": "55af9d48",
   "metadata": {},
   "outputs": [
    {
     "name": "stdout",
     "output_type": "stream",
     "text": [
      "248/248 [==============================] - 27s 107ms/step - loss: 0.1055 - accuracy: 0.9662\n"
     ]
    },
    {
     "data": {
      "text/plain": [
       "[0.10553658753633499, 0.9661659002304077]"
      ]
     },
     "execution_count": 23,
     "metadata": {},
     "output_type": "execute_result"
    }
   ],
   "source": [
    "model.evaluate(x_test,y_test)"
   ]
  },
  {
   "cell_type": "markdown",
   "id": "4a5cdabd",
   "metadata": {},
   "source": [
    "# <u> Save the trained Model for future use </u>"
   ]
  },
  {
   "cell_type": "code",
   "execution_count": 24,
   "id": "da1464bd",
   "metadata": {},
   "outputs": [],
   "source": [
    "from tensorflow.keras.models import save_model\n",
    "save_model(model,\"model.h5\")"
   ]
  },
  {
   "cell_type": "code",
   "execution_count": 25,
   "id": "c480c346",
   "metadata": {},
   "outputs": [],
   "source": [
    "import tensorflow as tf"
   ]
  },
  {
   "cell_type": "markdown",
   "id": "c53649c2",
   "metadata": {},
   "source": [
    "### .h5 to .tflite "
   ]
  },
  {
   "cell_type": "code",
   "execution_count": 26,
   "id": "8be23361",
   "metadata": {},
   "outputs": [
    {
     "name": "stderr",
     "output_type": "stream",
     "text": [
      "WARNING:absl:Found untraced functions such as _jit_compiled_convolution_op, _jit_compiled_convolution_op while saving (showing 2 of 2). These functions will not be directly callable after loading.\n"
     ]
    },
    {
     "name": "stdout",
     "output_type": "stream",
     "text": [
      "INFO:tensorflow:Assets written to: C:\\Users\\RAUNAK\\AppData\\Local\\Temp\\tmpi7xxwqee\\assets\n"
     ]
    },
    {
     "name": "stderr",
     "output_type": "stream",
     "text": [
      "INFO:tensorflow:Assets written to: C:\\Users\\RAUNAK\\AppData\\Local\\Temp\\tmpi7xxwqee\\assets\n"
     ]
    },
    {
     "data": {
      "text/plain": [
       "66300428"
      ]
     },
     "execution_count": 26,
     "metadata": {},
     "output_type": "execute_result"
    }
   ],
   "source": [
    "converter = tf.lite.TFLiteConverter.from_keras_model(model)\n",
    "tflite_model = converter.convert()\n",
    "open(\"alpha_detector.tflite\", \"wb\").write(tflite_model)"
   ]
  },
  {
   "cell_type": "code",
   "execution_count": null,
   "id": "1451ab2a",
   "metadata": {},
   "outputs": [],
   "source": []
  }
 ],
 "metadata": {
  "kernelspec": {
   "display_name": "Python 3 (ipykernel)",
   "language": "python",
   "name": "python3"
  },
  "language_info": {
   "codemirror_mode": {
    "name": "ipython",
    "version": 3
   },
   "file_extension": ".py",
   "mimetype": "text/x-python",
   "name": "python",
   "nbconvert_exporter": "python",
   "pygments_lexer": "ipython3",
   "version": "3.10.2"
  }
 },
 "nbformat": 4,
 "nbformat_minor": 5
}
