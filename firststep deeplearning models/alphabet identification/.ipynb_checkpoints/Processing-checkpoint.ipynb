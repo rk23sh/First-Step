{
 "cells": [
  {
   "cell_type": "markdown",
   "id": "a43a817b",
   "metadata": {},
   "source": [
    "# <u>Import required libraries</u>"
   ]
  },
  {
   "cell_type": "code",
   "execution_count": 1,
   "id": "ac50197f",
   "metadata": {},
   "outputs": [],
   "source": [
    "import numpy as np\n",
    "import matplotlib.pyplot as plt\n",
    "import cv2\n",
    "import os\n",
    "from keras.preprocessing.image import ImageDataGenerator\n",
    "from tensorflow.keras.utils import load_img, img_to_array, array_to_img\n",
    "import PIL"
   ]
  },
  {
   "cell_type": "markdown",
   "id": "ac574b00",
   "metadata": {},
   "source": [
    "# <u>Image Augmentation because the original dataset is too small</u>"
   ]
  },
  {
   "cell_type": "code",
   "execution_count": 28,
   "id": "9dcf1323",
   "metadata": {},
   "outputs": [],
   "source": [
    "datagen = ImageDataGenerator(\n",
    "        height_shift_range=0.1,\n",
    "        width_shift_range=0.1,\n",
    "        rotation_range=5,\n",
    "        zoom_range=[0.9,1.8],\n",
    "        fill_mode='nearest')"
   ]
  },
  {
   "cell_type": "code",
   "execution_count": 29,
   "id": "de1b0bfd",
   "metadata": {},
   "outputs": [],
   "source": [
    "for img in os.listdir(\"dataset\"):\n",
    "    image = load_img(os.path.join(\"dataset\",img))\n",
    "    x = img_to_array(image)\n",
    "    x = x.reshape((1,)+x.shape)\n",
    "    \n",
    "    alpha = img[0]\n",
    "    \n",
    "    i = 1\n",
    "    for batch in datagen.flow(x, batch_size=1,save_to_dir='preview', save_prefix=alpha, save_format='png'):\n",
    "        i += 1\n",
    "        if i > 10:\n",
    "            break"
   ]
  },
  {
   "cell_type": "markdown",
   "id": "727262e5",
   "metadata": {},
   "source": [
    "# <u>Data preprocessing</u>"
   ]
  },
  {
   "cell_type": "code",
   "execution_count": 30,
   "id": "8f945021",
   "metadata": {},
   "outputs": [],
   "source": [
    "def data(path,img):\n",
    "    image = cv2.imread(path,cv2.IMREAD_COLOR)[...,::-1]\n",
    "    image = cv2.resize(image,(100,162))\n",
    "    \n",
    "    alpha = ord(img[0])-65\n",
    "        \n",
    "    return (image,alpha)\n",
    "        "
   ]
  },
  {
   "cell_type": "code",
   "execution_count": 31,
   "id": "f71eae0b",
   "metadata": {},
   "outputs": [],
   "source": [
    "dataset = []\n",
    "for img in os.listdir(\"new_dataset\"):\n",
    "    dataset.append(data(os.path.join(\"./new_dataset\",img),img))"
   ]
  },
  {
   "cell_type": "code",
   "execution_count": 32,
   "id": "46e92f95",
   "metadata": {},
   "outputs": [
    {
     "data": {
      "text/plain": [
       "7921"
      ]
     },
     "execution_count": 32,
     "metadata": {},
     "output_type": "execute_result"
    }
   ],
   "source": [
    "len(dataset)"
   ]
  },
  {
   "cell_type": "code",
   "execution_count": 33,
   "id": "e20ea006",
   "metadata": {},
   "outputs": [
    {
     "data": {
      "text/plain": [
       "24"
      ]
     },
     "execution_count": 33,
     "metadata": {},
     "output_type": "execute_result"
    }
   ],
   "source": [
    "dataset[7500][1]"
   ]
  },
  {
   "cell_type": "markdown",
   "id": "508ef188",
   "metadata": {},
   "source": [
    "# <u>Dataset shuffling for better training of the model</u>"
   ]
  },
  {
   "cell_type": "code",
   "execution_count": 40,
   "id": "0d09348f",
   "metadata": {},
   "outputs": [],
   "source": [
    "import random\n",
    "random.shuffle(dataset)"
   ]
  },
  {
   "cell_type": "code",
   "execution_count": 41,
   "id": "991e0dcb",
   "metadata": {},
   "outputs": [],
   "source": [
    "X = []\n",
    "Y = []\n",
    "for feature,label in dataset:\n",
    "    X.append(feature)\n",
    "    Y.append(label)"
   ]
  },
  {
   "cell_type": "code",
   "execution_count": 42,
   "id": "b1da6cf6",
   "metadata": {},
   "outputs": [
    {
     "data": {
      "text/plain": [
       "301"
      ]
     },
     "execution_count": 42,
     "metadata": {},
     "output_type": "execute_result"
    }
   ],
   "source": [
    "Y.count(10)"
   ]
  },
  {
   "cell_type": "markdown",
   "id": "01b82fc4",
   "metadata": {},
   "source": [
    "# <u>Unzipping feature and label data into separate numpy arrays</u>"
   ]
  },
  {
   "cell_type": "code",
   "execution_count": 43,
   "id": "ea7d1197",
   "metadata": {},
   "outputs": [],
   "source": [
    "X = np.array(X,dtype=\"float32\")\n",
    "Y = np.array(Y)"
   ]
  },
  {
   "cell_type": "code",
   "execution_count": 44,
   "id": "bb3f9598",
   "metadata": {},
   "outputs": [
    {
     "data": {
      "text/plain": [
       "array([ 2, 15, 12, ..., 25, 16, 20])"
      ]
     },
     "execution_count": 44,
     "metadata": {},
     "output_type": "execute_result"
    }
   ],
   "source": [
    "Y"
   ]
  },
  {
   "cell_type": "markdown",
   "id": "f5cdccb5",
   "metadata": {},
   "source": [
    "# <u>Feature and label data serialization for furthur usage</u>"
   ]
  },
  {
   "cell_type": "code",
   "execution_count": 45,
   "id": "ba5f5a59",
   "metadata": {},
   "outputs": [],
   "source": [
    "import pickle\n",
    "feature = open('feature','wb')\n",
    "pickle.dump(X,feature)\n",
    "feature.close()"
   ]
  },
  {
   "cell_type": "code",
   "execution_count": 46,
   "id": "a6fad051",
   "metadata": {},
   "outputs": [],
   "source": [
    "label = open('label','wb')\n",
    "pickle.dump(Y,label)\n",
    "label.close()"
   ]
  },
  {
   "cell_type": "code",
   "execution_count": null,
   "id": "3bc92475",
   "metadata": {},
   "outputs": [],
   "source": []
  }
 ],
 "metadata": {
  "kernelspec": {
   "display_name": "Python 3 (ipykernel)",
   "language": "python",
   "name": "python3"
  },
  "language_info": {
   "codemirror_mode": {
    "name": "ipython",
    "version": 3
   },
   "file_extension": ".py",
   "mimetype": "text/x-python",
   "name": "python",
   "nbconvert_exporter": "python",
   "pygments_lexer": "ipython3",
   "version": "3.10.2"
  }
 },
 "nbformat": 4,
 "nbformat_minor": 5
}
